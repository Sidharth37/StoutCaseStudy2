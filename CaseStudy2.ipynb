{
 "cells": [
  {
   "cell_type": "markdown",
   "metadata": {},
   "source": [
    "# Sidharth Jahagirdar - ssj180009@utdallas.edu / 6822834728"
   ]
  },
  {
   "cell_type": "markdown",
   "metadata": {},
   "source": [
    "# Case Study 2"
   ]
  },
  {
   "cell_type": "markdown",
   "metadata": {},
   "source": [
    "# Importing Libraries and dataset"
   ]
  },
  {
   "cell_type": "code",
   "execution_count": 1,
   "metadata": {},
   "outputs": [],
   "source": [
    "import pandas as pd\n",
    "import seaborn as sns\n",
    "import matplotlib.pyplot as plt\n",
    "import numpy as np"
   ]
  },
  {
   "cell_type": "code",
   "execution_count": 2,
   "metadata": {},
   "outputs": [],
   "source": [
    "df=pd.read_csv(r\"C:\\Users\\sidha\\Desktop\\Stout Case Study\\Case Study 2\\casestudy.csv\")"
   ]
  },
  {
   "cell_type": "code",
   "execution_count": 3,
   "metadata": {
    "scrolled": true
   },
   "outputs": [
    {
     "data": {
      "text/html": [
       "<div>\n",
       "<style scoped>\n",
       "    .dataframe tbody tr th:only-of-type {\n",
       "        vertical-align: middle;\n",
       "    }\n",
       "\n",
       "    .dataframe tbody tr th {\n",
       "        vertical-align: top;\n",
       "    }\n",
       "\n",
       "    .dataframe thead th {\n",
       "        text-align: right;\n",
       "    }\n",
       "</style>\n",
       "<table border=\"1\" class=\"dataframe\">\n",
       "  <thead>\n",
       "    <tr style=\"text-align: right;\">\n",
       "      <th></th>\n",
       "      <th>Index</th>\n",
       "      <th>customer_email</th>\n",
       "      <th>net_revenue</th>\n",
       "      <th>year</th>\n",
       "    </tr>\n",
       "  </thead>\n",
       "  <tbody>\n",
       "    <tr>\n",
       "      <th>0</th>\n",
       "      <td>0</td>\n",
       "      <td>nhknapwsbx@gmail.com</td>\n",
       "      <td>249.92</td>\n",
       "      <td>2015</td>\n",
       "    </tr>\n",
       "    <tr>\n",
       "      <th>1</th>\n",
       "      <td>1</td>\n",
       "      <td>joiuzbvcpn@gmail.com</td>\n",
       "      <td>87.61</td>\n",
       "      <td>2015</td>\n",
       "    </tr>\n",
       "    <tr>\n",
       "      <th>2</th>\n",
       "      <td>2</td>\n",
       "      <td>ukkjctepxt@gmail.com</td>\n",
       "      <td>168.38</td>\n",
       "      <td>2015</td>\n",
       "    </tr>\n",
       "    <tr>\n",
       "      <th>3</th>\n",
       "      <td>3</td>\n",
       "      <td>gykatilzrt@gmail.com</td>\n",
       "      <td>62.40</td>\n",
       "      <td>2015</td>\n",
       "    </tr>\n",
       "    <tr>\n",
       "      <th>4</th>\n",
       "      <td>4</td>\n",
       "      <td>mmsgsrtxah@gmail.com</td>\n",
       "      <td>43.08</td>\n",
       "      <td>2015</td>\n",
       "    </tr>\n",
       "  </tbody>\n",
       "</table>\n",
       "</div>"
      ],
      "text/plain": [
       "   Index         customer_email  net_revenue  year\n",
       "0      0   nhknapwsbx@gmail.com       249.92  2015\n",
       "1      1   joiuzbvcpn@gmail.com        87.61  2015\n",
       "2      2   ukkjctepxt@gmail.com       168.38  2015\n",
       "3      3   gykatilzrt@gmail.com        62.40  2015\n",
       "4      4   mmsgsrtxah@gmail.com        43.08  2015"
      ]
     },
     "execution_count": 3,
     "metadata": {},
     "output_type": "execute_result"
    }
   ],
   "source": [
    "df.head()"
   ]
  },
  {
   "cell_type": "markdown",
   "metadata": {},
   "source": [
    "# Insights 2017"
   ]
  },
  {
   "cell_type": "markdown",
   "metadata": {},
   "source": [
    "<b>Total revenue for year 2017 = 31417495.03"
   ]
  },
  {
   "cell_type": "code",
   "execution_count": 4,
   "metadata": {},
   "outputs": [
    {
     "data": {
      "text/plain": [
       "31417495.03"
      ]
     },
     "execution_count": 4,
     "metadata": {},
     "output_type": "execute_result"
    }
   ],
   "source": [
    "rev2017=round(sum(df[df['year']==2017]['net_revenue']),2)\n",
    "rev2017"
   ]
  },
  {
   "cell_type": "markdown",
   "metadata": {},
   "source": [
    "<b>New customer revenue for year 2017 = 28676607.64"
   ]
  },
  {
   "cell_type": "code",
   "execution_count": 5,
   "metadata": {},
   "outputs": [
    {
     "data": {
      "text/plain": [
       "28676607.64"
      ]
     },
     "execution_count": 5,
     "metadata": {},
     "output_type": "execute_result"
    }
   ],
   "source": [
    "all2017=list(df[df['year']==2017]['customer_email'])\n",
    "prev2017=list(df[df['year']<2017]['customer_email'])\n",
    "new2017=set(all2017)-set(prev2017)\n",
    "new2017=list(new2017)\n",
    "revNew2017=round(sum(df.loc[(df['year']==2017)&(df['customer_email'].isin(new2017))]['net_revenue']),2)\n",
    "revNew2017"
   ]
  },
  {
   "cell_type": "markdown",
   "metadata": {},
   "source": [
    "<b>Existing Customer Growth for year 2017 = -4744565.19<br>\n",
    "    There is a decline in revenue from existing customer"
   ]
  },
  {
   "cell_type": "code",
   "execution_count": 6,
   "metadata": {},
   "outputs": [
    {
     "data": {
      "text/plain": [
       "-4744565.19"
      ]
     },
     "execution_count": 6,
     "metadata": {},
     "output_type": "execute_result"
    }
   ],
   "source": [
    "revEx2017=round(rev2017-revNew2017,2)\n",
    "revEx2017\n",
    "all2016=list(df[df['year']==2016]['customer_email'])\n",
    "prev2016=list(df[df['year']<2016]['customer_email'])\n",
    "new2016=set(all2016)-set(prev2016)\n",
    "new2016=list(new2016)\n",
    "revNew2016=round(sum(df.loc[(df['year']==2016)&(df['customer_email'].isin(new2016))]['net_revenue']),2)\n",
    "revNew2016\n",
    "rev2016=round(sum(df[df['year']==2016]['net_revenue']),2)\n",
    "revEx2016=round(rev2016-revNew2016,2)\n",
    "round(revEx2017-revEx2016,2)"
   ]
  },
  {
   "cell_type": "markdown",
   "metadata": {},
   "source": [
    "<b>Revenue lost from attrition = 23110294.94"
   ]
  },
  {
   "cell_type": "markdown",
   "metadata": {},
   "source": [
    "Assumption -<br>\n",
    "eg. There are 100 customers in 2015, 80 of them carryforward to 2016, 20 of them opt out the service, 30 new customers join the service in 2016. The loss of revenue due to attrition will be the loss of revenue due to the customers who are quitting(20 customers in this case)."
   ]
  },
  {
   "cell_type": "code",
   "execution_count": 7,
   "metadata": {},
   "outputs": [
    {
     "data": {
      "text/plain": [
       "23110294.94"
      ]
     },
     "execution_count": 7,
     "metadata": {},
     "output_type": "execute_result"
    }
   ],
   "source": [
    "lost2017=list(set(all2016)-set(all2017))\n",
    "revLost2017=round(sum(df.loc[(df['year']==2016)&(df['customer_email'].isin(lost2017))]['net_revenue']),2)\n",
    "revLost2017"
   ]
  },
  {
   "cell_type": "markdown",
   "metadata": {},
   "source": [
    "<b>Existing Customer Revenue Current Year(2017) =2740887.39"
   ]
  },
  {
   "cell_type": "code",
   "execution_count": 8,
   "metadata": {},
   "outputs": [
    {
     "data": {
      "text/plain": [
       "2740887.39"
      ]
     },
     "execution_count": 8,
     "metadata": {},
     "output_type": "execute_result"
    }
   ],
   "source": [
    "revEx2017"
   ]
  },
  {
   "cell_type": "markdown",
   "metadata": {},
   "source": [
    "<b>Existing Customer Revenue Prior Year(2016)=7485452.58"
   ]
  },
  {
   "cell_type": "code",
   "execution_count": 9,
   "metadata": {},
   "outputs": [
    {
     "data": {
      "text/plain": [
       "7485452.58"
      ]
     },
     "execution_count": 9,
     "metadata": {},
     "output_type": "execute_result"
    }
   ],
   "source": [
    "revEx2016"
   ]
  },
  {
   "cell_type": "markdown",
   "metadata": {},
   "source": [
    "<b>Total Customers Current Year(2017)=249987"
   ]
  },
  {
   "cell_type": "code",
   "execution_count": 10,
   "metadata": {},
   "outputs": [
    {
     "data": {
      "text/plain": [
       "249987"
      ]
     },
     "execution_count": 10,
     "metadata": {},
     "output_type": "execute_result"
    }
   ],
   "source": [
    "len(set(list(df[df['year']==2017]['customer_email'])))"
   ]
  },
  {
   "cell_type": "markdown",
   "metadata": {},
   "source": [
    "<b>Total Customers Previous Year(2016)=204646"
   ]
  },
  {
   "cell_type": "code",
   "execution_count": 11,
   "metadata": {},
   "outputs": [
    {
     "data": {
      "text/plain": [
       "204646"
      ]
     },
     "execution_count": 11,
     "metadata": {},
     "output_type": "execute_result"
    }
   ],
   "source": [
    "len(set(list(df[df['year']==2016]['customer_email'])))"
   ]
  },
  {
   "cell_type": "markdown",
   "metadata": {},
   "source": [
    "<b>New Customers(2017)=228262"
   ]
  },
  {
   "cell_type": "code",
   "execution_count": 12,
   "metadata": {},
   "outputs": [
    {
     "data": {
      "text/plain": [
       "228262"
      ]
     },
     "execution_count": 12,
     "metadata": {},
     "output_type": "execute_result"
    }
   ],
   "source": [
    "len(new2017)"
   ]
  },
  {
   "cell_type": "markdown",
   "metadata": {},
   "source": [
    "<b>Lost Customers(2017)=183687"
   ]
  },
  {
   "cell_type": "code",
   "execution_count": 13,
   "metadata": {},
   "outputs": [
    {
     "data": {
      "text/plain": [
       "183687"
      ]
     },
     "execution_count": 13,
     "metadata": {},
     "output_type": "execute_result"
    }
   ],
   "source": [
    "len(list(set(all2016)-set(all2017)))\n"
   ]
  },
  {
   "cell_type": "markdown",
   "metadata": {},
   "source": [
    "# Insights 2016 "
   ]
  },
  {
   "cell_type": "markdown",
   "metadata": {},
   "source": [
    "<b>Total revenue for year 2016=25730943.59"
   ]
  },
  {
   "cell_type": "code",
   "execution_count": 14,
   "metadata": {},
   "outputs": [
    {
     "data": {
      "text/plain": [
       "25730943.59"
      ]
     },
     "execution_count": 14,
     "metadata": {},
     "output_type": "execute_result"
    }
   ],
   "source": [
    "rev2016"
   ]
  },
  {
   "cell_type": "markdown",
   "metadata": {},
   "source": [
    "<b>New Customer Revenue for year 2016=18245491.01"
   ]
  },
  {
   "cell_type": "code",
   "execution_count": 15,
   "metadata": {},
   "outputs": [
    {
     "data": {
      "text/plain": [
       "18245491.01"
      ]
     },
     "execution_count": 15,
     "metadata": {},
     "output_type": "execute_result"
    }
   ],
   "source": [
    "revNew2016"
   ]
  },
  {
   "cell_type": "markdown",
   "metadata": {},
   "source": [
    "<b>Existing Customer Growth for year 2016"
   ]
  },
  {
   "cell_type": "markdown",
   "metadata": {},
   "source": [
    "Insufficient data, to calculate 2016 existing customer growth, one would need a list of existing customers in 2015.\n",
    "To get the existing customers in 2015, we would need data for 2014 and prior, which falls out of the scope of the dataset"
   ]
  },
  {
   "cell_type": "markdown",
   "metadata": {},
   "source": [
    "<b>Revenue lost from attrition=21571632.07"
   ]
  },
  {
   "cell_type": "markdown",
   "metadata": {},
   "source": [
    "Assumption -<br>\n",
    "eg. There are 100 customers in 2015, 80 of them carryforward to 2016, 20 of them opt out the service, 30 new customers join the service in 2016. The loss of revenue due to attrition will be the loss of revenue due attrition will be the loss of revenue due to the customers who are quitting(20 customers in this case)."
   ]
  },
  {
   "cell_type": "code",
   "execution_count": 16,
   "metadata": {},
   "outputs": [
    {
     "data": {
      "text/plain": [
       "21571632.07"
      ]
     },
     "execution_count": 16,
     "metadata": {},
     "output_type": "execute_result"
    }
   ],
   "source": [
    "all2015=list(df[df['year']==2015]['customer_email'])\n",
    "lost2016=list(set(all2015)-set(all2016))\n",
    "revLost2016=round(sum(df.loc[(df['year']==2015)&(df['customer_email'].isin(lost2016))]['net_revenue']),2)\n",
    "revLost2016"
   ]
  },
  {
   "cell_type": "markdown",
   "metadata": {},
   "source": [
    "<b>Existing Customer Revenue for current year(2016)=7485452.58"
   ]
  },
  {
   "cell_type": "code",
   "execution_count": 17,
   "metadata": {},
   "outputs": [
    {
     "data": {
      "text/plain": [
       "7485452.58"
      ]
     },
     "execution_count": 17,
     "metadata": {},
     "output_type": "execute_result"
    }
   ],
   "source": [
    "revEx2016"
   ]
  },
  {
   "cell_type": "markdown",
   "metadata": {},
   "source": [
    "<b>Existing Customer Revenue for Prior Year(2015)"
   ]
  },
  {
   "cell_type": "markdown",
   "metadata": {},
   "source": [
    "Insufficient data, to calculate existing customer revenue for 2015, one would need to get the existing customers in 2015, for which we would need data for 2014 and prior, which falls out of the scope of the dataset"
   ]
  },
  {
   "cell_type": "markdown",
   "metadata": {},
   "source": [
    "<b>Total Customers Current Year(2016)=204646"
   ]
  },
  {
   "cell_type": "code",
   "execution_count": 18,
   "metadata": {},
   "outputs": [
    {
     "data": {
      "text/plain": [
       "204646"
      ]
     },
     "execution_count": 18,
     "metadata": {},
     "output_type": "execute_result"
    }
   ],
   "source": [
    "len(set(list(df[df['year']==2016]['customer_email'])))"
   ]
  },
  {
   "cell_type": "markdown",
   "metadata": {},
   "source": [
    "<b>Total Customers Previous Year=231294"
   ]
  },
  {
   "cell_type": "code",
   "execution_count": 19,
   "metadata": {},
   "outputs": [
    {
     "data": {
      "text/plain": [
       "231294"
      ]
     },
     "execution_count": 19,
     "metadata": {},
     "output_type": "execute_result"
    }
   ],
   "source": [
    "len(set(list(df[df['year']==2015]['customer_email'])))"
   ]
  },
  {
   "cell_type": "markdown",
   "metadata": {},
   "source": [
    "<b>New Customers=145062"
   ]
  },
  {
   "cell_type": "code",
   "execution_count": 20,
   "metadata": {},
   "outputs": [
    {
     "data": {
      "text/plain": [
       "145062"
      ]
     },
     "execution_count": 20,
     "metadata": {},
     "output_type": "execute_result"
    }
   ],
   "source": [
    "len(new2016)"
   ]
  },
  {
   "cell_type": "markdown",
   "metadata": {},
   "source": [
    "<b>Lost Customers(2016)=171710"
   ]
  },
  {
   "cell_type": "code",
   "execution_count": 21,
   "metadata": {},
   "outputs": [
    {
     "data": {
      "text/plain": [
       "171710"
      ]
     },
     "execution_count": 21,
     "metadata": {},
     "output_type": "execute_result"
    }
   ],
   "source": [
    "all2015=list(df[df['year']==2015]['customer_email'])\n",
    "len(list(set(all2015)-set(all2016)))"
   ]
  },
  {
   "cell_type": "markdown",
   "metadata": {},
   "source": [
    "# Insights 2015"
   ]
  },
  {
   "cell_type": "markdown",
   "metadata": {},
   "source": [
    "<b>Total revenue for year 2015=29036749.19"
   ]
  },
  {
   "cell_type": "code",
   "execution_count": 22,
   "metadata": {},
   "outputs": [
    {
     "data": {
      "text/plain": [
       "29036749.19"
      ]
     },
     "execution_count": 22,
     "metadata": {},
     "output_type": "execute_result"
    }
   ],
   "source": [
    "rev2015=round(sum(df[df['year']==2015]['net_revenue']),2)\n",
    "rev2015"
   ]
  },
  {
   "cell_type": "markdown",
   "metadata": {},
   "source": [
    "<b>New Customer Revenue for the year 2015"
   ]
  },
  {
   "cell_type": "markdown",
   "metadata": {},
   "source": [
    "Insufficient data, to calculate the revenue from new customers in 2015, we would need a list of new customers in 2015. To get the list of new customers in 2015, we will need access to data from 2014 and before, which falls out of the scope of the dataset."
   ]
  },
  {
   "cell_type": "markdown",
   "metadata": {},
   "source": [
    "<b>Existing Customer Growth for the year 2015"
   ]
  },
  {
   "cell_type": "markdown",
   "metadata": {},
   "source": [
    "Insufficient data, to calculate the existing customer growth for the year 2015, we would need a list of existing customers in 2015. To get the list of existing customers in 2015, we will need access to data from 2014 and before, which falls out of the scope of the dataset."
   ]
  },
  {
   "cell_type": "markdown",
   "metadata": {},
   "source": [
    "<b>Revenue lost from attrition"
   ]
  },
  {
   "cell_type": "markdown",
   "metadata": {},
   "source": [
    "Insufficient data, to calculate the revenue loss due to attrition in 2015, we would need a list of lost customers in 2015. To get the list of lost customers in 2015, we will need access to data from 2014 and before, which falls out of the scope of the dataset."
   ]
  },
  {
   "cell_type": "markdown",
   "metadata": {},
   "source": [
    "<b>Existing Customer Revenue Current Year"
   ]
  },
  {
   "cell_type": "markdown",
   "metadata": {},
   "source": [
    "Insufficient data, to calculate the existing customer revenue for the year 2015, we would need a list of existing customers in 2015. To get the list of existing customers in 2015, we will need access to data from 2014 and before, which falls out of the scope of the dataset."
   ]
  },
  {
   "cell_type": "markdown",
   "metadata": {},
   "source": [
    "<b>Existing Customer Revenue Prior Year(2014)"
   ]
  },
  {
   "cell_type": "markdown",
   "metadata": {},
   "source": [
    "No data available for 2014."
   ]
  },
  {
   "cell_type": "markdown",
   "metadata": {},
   "source": [
    "<b>Total Customers Current Year(2015)=231294"
   ]
  },
  {
   "cell_type": "code",
   "execution_count": 23,
   "metadata": {},
   "outputs": [
    {
     "data": {
      "text/plain": [
       "231294"
      ]
     },
     "execution_count": 23,
     "metadata": {},
     "output_type": "execute_result"
    }
   ],
   "source": [
    "len(all2015)"
   ]
  },
  {
   "cell_type": "markdown",
   "metadata": {},
   "source": [
    "<b>Total Customers Previous Year"
   ]
  },
  {
   "cell_type": "markdown",
   "metadata": {},
   "source": [
    "No data available for 2014."
   ]
  },
  {
   "cell_type": "markdown",
   "metadata": {},
   "source": [
    "<b>New Customers(2015)"
   ]
  },
  {
   "cell_type": "markdown",
   "metadata": {},
   "source": [
    "Insufficient data, to calculate the number of new customers in 2015, we would need a list of new customers in 2015. To get the list of new customers in 2015, we will need access to data from 2014 and before, which falls out of the scope of the dataset."
   ]
  },
  {
   "cell_type": "markdown",
   "metadata": {},
   "source": [
    "<b>Lost Customers(2015)"
   ]
  },
  {
   "cell_type": "markdown",
   "metadata": {},
   "source": [
    "Insufficient data, to calculate the number of lost customers in 2015, we would need a list of customers in 2014. To get the list of customers in 2014, we will need access to data from 2014 and before, which falls out of the scope of the dataset."
   ]
  },
  {
   "cell_type": "markdown",
   "metadata": {},
   "source": [
    "# Plots"
   ]
  },
  {
   "cell_type": "code",
   "execution_count": 24,
   "metadata": {},
   "outputs": [
    {
     "data": {
      "image/png": "[encoded data removed]",
      "text/plain": [
       "<Figure size 864x432 with 1 Axes>"
      ]
     },
     "metadata": {
      "needs_background": "light"
     },
     "output_type": "display_data"
    }
   ],
   "source": [
    "temp=df.groupby(['year']).sum()['net_revenue'].reset_index()\n",
    "temp\n",
    "height=list(temp['net_revenue'])\n",
    "height\n",
    "bars=('2015','2016','2017')\n",
    "y_pos = np.arange(len(bars))\n",
    "plt.figure(figsize=(12, 6))\n",
    "plt.bar(y_pos, height,color='#99ccff',edgecolor='black')\n",
    "plt.xticks(y_pos, bars)\n",
    "plt.xlabel('Year',fontsize=16)\n",
    "plt.ylabel('Net Revenue-Normalized to 10^7 scale',fontsize=16)\n",
    "plt.title('Yearly Revenue',fontsize=20)\n",
    "plt.show()\n"
   ]
  },
  {
   "cell_type": "markdown",
   "metadata": {},
   "source": [
    "<b>Based on the yearly revenue, 2017 seems to be the best performing year, followed by 2015, and at last place 2016"
   ]
  },
  {
   "cell_type": "code",
   "execution_count": 25,
   "metadata": {},
   "outputs": [
    {
     "data": {
      "image/png": "[encoded data removed]",
      "text/plain": [
       "<Figure size 864x432 with 1 Axes>"
      ]
     },
     "metadata": {
      "needs_background": "light"
     },
     "output_type": "display_data"
    }
   ],
   "source": [
    "temp=df.groupby(['year']).count()['net_revenue'].reset_index()\n",
    "temp\n",
    "height=list(temp['net_revenue'])\n",
    "height\n",
    "bars=('2015','2016','2017')\n",
    "y_pos = np.arange(len(bars))\n",
    "plt.figure(figsize=(12, 6))\n",
    "plt.bar(y_pos, height,color='#99ccff',edgecolor='black')\n",
    "plt.xticks(y_pos, bars)\n",
    "plt.xlabel('Year',fontsize=16)\n",
    "plt.ylabel('Total Customer Count',fontsize=16)\n",
    "plt.title('Customer base per year',fontsize=20)\n",
    "plt.show()\n"
   ]
  },
  {
   "cell_type": "markdown",
   "metadata": {},
   "source": [
    "<b> A similar trend as the yearly revenue, is observed in the total customer count per year. The best performing year is 2017, followed by 2015, and at last place 2016"
   ]
  },
  {
   "cell_type": "code",
   "execution_count": 26,
   "metadata": {},
   "outputs": [
    {
     "data": {
      "image/png": "[encoded data removed]",
      "text/plain": [
       "<Figure size 864x432 with 1 Axes>"
      ]
     },
     "metadata": {
      "needs_background": "light"
     },
     "output_type": "display_data"
    }
   ],
   "source": [
    "df.groupby(['year']).sum()\n",
    "top=df.groupby(\"customer_email\").sum().sort_values(\"net_revenue\",ascending=False).head(10)['net_revenue']\n",
    "top=pd.DataFrame(top).reset_index()\n",
    "top\n",
    "plt.figure(figsize=(12, 6))\n",
    "sns.barplot(x=top[\"customer_email\"], y=top[\"net_revenue\"], palette=\"rocket\")\n",
    "plt.xticks(rotation=80)\n",
    "\n",
    "plt.xlabel('Customers',fontsize=16)\n",
    "plt.ylabel('Net revenue over 3 years',fontsize=16)\n",
    "plt.title('Top 10 customers',fontsize=20)\n",
    "plt.show()"
   ]
  },
  {
   "cell_type": "markdown",
   "metadata": {},
   "source": [
    "<b>The above chart shows the most profitable customers for all the years combined, based on revenue contributed by these customers"
   ]
  },
  {
   "cell_type": "code",
   "execution_count": 27,
   "metadata": {},
   "outputs": [
    {
     "data": {
      "image/png": "[encoded data removed]",
      "text/plain": [
       "<Figure size 864x432 with 1 Axes>"
      ]
     },
     "metadata": {},
     "output_type": "display_data"
    }
   ],
   "source": [
    "sns.set_theme(style=\"ticks\", palette=\"pastel\")\n",
    "\n",
    "# Load the example tips dataset\n",
    "plt.figure(figsize=(12, 6))\n",
    "# Draw a nested boxplot to show bills by day and time\n",
    "sns.boxplot(x=\"year\", y=\"net_revenue\",\n",
    "            palette=[\"b\",'g','m'],\n",
    "            data=df)\n",
    "sns.despine(offset=10, trim=True)\n",
    "plt.xlabel('Year',fontsize=16)\n",
    "plt.ylabel('Net revenue',fontsize=16)\n",
    "plt.title('Distribution of net revenue over years',fontsize=20)\n",
    "plt.show()"
   ]
  },
  {
   "cell_type": "markdown",
   "metadata": {},
   "source": [
    "<b>The distribution of net revenue across the years appear to be very similar, indicating a constant trend/performance over these years."
   ]
  },
  {
   "cell_type": "code",
   "execution_count": null,
   "metadata": {},
   "outputs": [],
   "source": []
  }
 ],
 "metadata": {
  "kernelspec": {
   "display_name": "Python 3",
   "language": "python",
   "name": "python3"
  },
  "language_info": {
   "codemirror_mode": {
    "name": "ipython",
    "version": 3
   },
   "file_extension": ".py",
   "mimetype": "text/x-python",
   "name": "python",
   "nbconvert_exporter": "python",
   "pygments_lexer": "ipython3",
   "version": "3.8.5"
  }
 },
 "nbformat": 4,
 "nbformat_minor": 4
}
